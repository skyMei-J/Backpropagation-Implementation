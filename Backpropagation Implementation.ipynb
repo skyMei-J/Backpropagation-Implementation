{
  "nbformat": 4,
  "nbformat_minor": 0,
  "metadata": {
    "kernelspec": {
      "display_name": "Python 3",
      "language": "python",
      "name": "python3"
    },
    "language_info": {
      "codemirror_mode": {
        "name": "ipython",
        "version": 3
      },
      "file_extension": ".py",
      "mimetype": "text/x-python",
      "name": "python",
      "nbconvert_exporter": "python",
      "pygments_lexer": "ipython3",
      "version": "3.7.4"
    },
    "colab": {
      "name": "ML_HW4_0610172_李玫臻.ipynb",
      "provenance": [],
      "include_colab_link": true
    }
  },
  "cells": [
    {
      "cell_type": "markdown",
      "metadata": {
        "id": "view-in-github",
        "colab_type": "text"
      },
      "source": [
        "<a href=\"https://colab.research.google.com/github/skyMei-J/Backpropagation-Implementation/blob/main/Backpropagation%20Implementation.ipynb\" target=\"_parent\"><img src=\"https://colab.research.google.com/assets/colab-badge.svg\" alt=\"Open In Colab\"/></a>"
      ]
    },
    {
      "cell_type": "code",
      "metadata": {
        "id": "MZUwaPLmxYLj"
      },
      "source": [
        "import pandas as pd \n",
        "import numpy as np \n",
        "import matplotlib.pyplot as plt\n",
        "import scipy\n",
        "import scipy.linalg\n",
        "import math\n",
        "\n",
        "np.random.seed(0)"
      ],
      "execution_count": null,
      "outputs": []
    },
    {
      "cell_type": "code",
      "metadata": {
        "id": "quxRN6AoxYLm"
      },
      "source": [
        "def Sigmoid(x):\n",
        "    y = 1.0/(1+np.exp(-x))\n",
        "    return y\n",
        "def Sigmoid_deriv(x):\n",
        "    return Sigmoid(x)*(1.0-Sigmoid(x))\n",
        "def CrossEntropy(X,Y):\n",
        "    m , __ = Y.shape\n",
        "    return (1./m)*(-((X*Y).sum()))"
      ],
      "execution_count": null,
      "outputs": []
    },
    {
      "cell_type": "code",
      "metadata": {
        "id": "IR598eJgxYLn"
      },
      "source": [
        "\n",
        "def fc_forward(input,bias,weight):\n",
        "    output = np.dot(input,weight) + bias\n",
        "    return output\n",
        "\n",
        "def fc_backward(output_g,weight,weight_g,back):\n",
        "    input_g = np.dot(output_g,np.transpose(weight))\n",
        "    backT = np.transpose(back)\n",
        "    weight_g = np.dot(backT,output_g)\n",
        "    bias_g = output_g.sum()\n",
        "    return weight_g,bias_g,input_g\n",
        "\n",
        "\n",
        "# def sigmoid_forward(input):\n",
        "#     y = Sigmoid(input)\n",
        "#     return y\n",
        "\n",
        "def sigmoid_backward(dEdy,sig_back):\n",
        "    dEdx = dEdy * Sigmoid_deriv(sig_back)\n",
        "    return dEdx\n",
        "\n",
        "\n",
        "def CrossEntropyLoss_forward(input, answer,back_target,back_predict):\n",
        "    M = np.max(input)\n",
        "    predict = np.exp(input-M)/((np.exp(input-M)).sum(axis=1,keepdims=True))\n",
        "    back_target = answer\n",
        "    back_predict = predict\n",
        "    log_predict = (input-M)-np.log((np.exp(input-M)).sum(axis=1,keepdims=True))\n",
        "    crossEntropyLoss =CrossEntropy(answer,log_predict)\n",
        "    return predict, crossEntropyLoss   ,back_target, back_predict  \n",
        "\n",
        "def CrossEntropyLoss_backward(back_target,back_predict):\n",
        "    input_g = back_predict - back_target\n",
        "    return input_g"
      ],
      "execution_count": null,
      "outputs": []
    },
    {
      "cell_type": "markdown",
      "metadata": {
        "id": "R7LqfQAQxYLo"
      },
      "source": [
        "# model"
      ]
    },
    {
      "cell_type": "code",
      "metadata": {
        "id": "Op0Z2jiqxYLq"
      },
      "source": [
        "\n",
        "\n",
        "class ANN(object):\n",
        "    def __init__(self):\n",
        "        self.fc1_weight = np.random.randn(2, 10) * -0.01\n",
        "        self.fc1_bias = np.zeros((1, 10))\n",
        "        self.fc1_weight_g = np.zeros((2,10))\n",
        "        self.fc1_bias_g = np.zeros((1, 10))\n",
        "\n",
        "        self.fc2_weight = np.random.randn(10, 20) * -0.01\n",
        "        self.fc2_bias = np.zeros((1, 20))\n",
        "        self.fc2_weight_g = np.zeros((10,20))\n",
        "        self.fc2_bias_g = np.zeros((1, 20))\n",
        "        \n",
        "        self.fc3_weight = np.random.randn(20, 2) * -0.01\n",
        "        self.fc3_bias = np.zeros((1, 2))\n",
        "        self.fc3_weight_g= np.zeros((20,2))\n",
        "        self.fc3_bias_g = np.zeros((1, 2))\n",
        "        \n",
        "        self.fc1_backward =0\n",
        "        self.fc2_backward =0\n",
        "        self.fc3_backward =0\n",
        "        self.sig1_backward = 0\n",
        "        self.sig2_backward = 0\n",
        "        self.Cross_backward_answer =0\n",
        "        self.Cross_backward_predict=0\n",
        "\n",
        "    def forward(self, input, target):\n",
        "        #layer 1\n",
        "        h1 = fc_forward(input,self.fc1_bias,self.fc1_weight)\n",
        "        a1 = Sigmoid(h1)\n",
        "        #layer2\n",
        "        h2 = fc_forward(a1,self.fc2_bias,self.fc2_weight)\n",
        "        a2 = Sigmoid(h2)\n",
        "        #output layer\n",
        "        out = fc_forward(a2,self.fc3_bias,self.fc3_weight)\n",
        "        pred, loss ,self.Cross_backward_answer,self.Cross_backward_predict= CrossEntropyLoss_forward(out, target,self.Cross_backward_answer,self.Cross_backward_predict)\n",
        "        \n",
        "        # backward propergation using forward value\n",
        "        self.fc1_backward   =input\n",
        "        self.sig1_backward1 = h1\n",
        "        self.fc2_backward   = a1\n",
        "        self.sig2_backward2 = h2\n",
        "        self.fc3_backward   = a2\n",
        "        return pred, loss\n",
        "\n",
        "    def backward(self):\n",
        "        out_g = CrossEntropyLoss_backward(self.Cross_backward_answer,self.Cross_backward_predict)\n",
        "        self.fc3_weight_g,self.fc3_bias_g,a2_g = fc_backward(out_g,self.fc3_weight,self.fc3_weight_g,self.fc3_backward)\n",
        "        \n",
        "        h2_g = sigmoid_backward(a2_g,self.sig2_backward)\n",
        "        self.fc2_weight_g,self.fc2_bias_g,a1_g = fc_backward(h2_g,self.fc2_weight,self.fc2_weight_g,self.fc2_backward)\n",
        "        \n",
        "        h1_g = sigmoid_backward(a1_g,self.sig1_backward)  \n",
        "        self.fc1_weight_g,self.fc1_bias_g,_       = fc_backward(h1_g,self.fc1_weight,self.fc1_weight_g,self.fc1_backward)\n",
        "\n",
        "    def update(self, lr):\n",
        "        self.fc1_weight -= self.fc1_weight_g * lr\n",
        "        self.fc1_bias   -= self.fc1_bias_g   * lr\n",
        "        self.fc2_weight -= self.fc2_weight_g * lr\n",
        "        self.fc2_bias   -= self.fc2_bias_g  * lr\n",
        "        self.fc3_weight -= self.fc3_weight_g * lr\n",
        "        self.fc3_bias   -= self.fc3_bias_g * lr\n"
      ],
      "execution_count": null,
      "outputs": []
    },
    {
      "cell_type": "code",
      "metadata": {
        "id": "XfARwB19xYLq"
      },
      "source": [
        ""
      ],
      "execution_count": null,
      "outputs": []
    },
    {
      "cell_type": "markdown",
      "metadata": {
        "id": "3nQ7NtHAxYLq"
      },
      "source": [
        "# DATA input"
      ]
    },
    {
      "cell_type": "code",
      "metadata": {
        "id": "K8fP0IzTxYLr",
        "outputId": "72b14e7c-ba0f-4563-ca44-f0890d68bab2"
      },
      "source": [
        "\n",
        "df = pd.read_csv('data.txt', header = None, names = ['x','y','label'])\n",
        "print(df)\n",
        "def plot_sample(df):\n",
        "    positive = df[df[\"label\"]==1]#x<y\n",
        "    negative = df[df[\"label\"]==0]#x>y\n",
        "\n",
        "    plt.xlabel(\"x\", fontweight = \"bold\")              \n",
        "    plt.ylabel(\"y\", fontweight = \"bold\")\n",
        "    plt.title(\"Scatter of point\",fontsize = 15, fontweight = \"bold\")\n",
        "\n",
        "    plt.scatter(negative[\"x\"],negative[\"y\"],c = \"m\",s = 30,alpha = .5,marker = \"o\") \n",
        "    plt.scatter(positive[\"x\"],positive[\"y\"],c = \"b\",s = 30,alpha = .5,marker = \"D\") \n",
        "    plt.show()\n",
        "plot_sample(df)"
      ],
      "execution_count": null,
      "outputs": [
        {
          "name": "stdout",
          "output_type": "stream",
          "text": [
            "            x          y  label\n",
            "0   93.485935  31.917719      0\n",
            "1   60.727313  95.556634      1\n",
            "2   57.615081  33.378930      0\n",
            "3   27.365577   9.866993      0\n",
            "4   32.179784  44.456337      1\n",
            "..        ...        ...    ...\n",
            "95  99.416372  79.917743      0\n",
            "96  45.754881  42.525009      0\n",
            "97  58.089464  66.537365      1\n",
            "98  14.096091  70.581584      1\n",
            "99  29.891224  38.914389      1\n",
            "\n",
            "[100 rows x 3 columns]\n"
          ]
        },
        {
          "data": {
            "image/png": "[encoded data removed]",
            "text/plain": [
              "<Figure size 432x288 with 1 Axes>"
            ]
          },
          "metadata": {
            "needs_background": "light"
          },
          "output_type": "display_data"
        }
      ]
    },
    {
      "cell_type": "markdown",
      "metadata": {
        "id": "gbV7d3imxYLs"
      },
      "source": [
        "# plot ground truth"
      ]
    },
    {
      "cell_type": "code",
      "metadata": {
        "id": "es2K4il3xYLs",
        "outputId": "543579f4-632f-4ec4-9051-ec1add70b704"
      },
      "source": [
        "def plot_line(xyc,answj,name):\n",
        "    positive = xyc[df[\"label\"]==1]#x<y\n",
        "    negative = xyc[df[\"label\"]==0]#x>y\n",
        "\n",
        "    plt.xlabel(\"x\", fontweight = \"bold\")              \n",
        "    plt.ylabel(\"y\", fontweight = \"bold\")\n",
        "    plt.title(name,fontsize = 15, fontweight = \"bold\")\n",
        "\n",
        "    plt.scatter(negative[\"x\"],negative[\"y\"],c = \"m\",s = 30,alpha = .5,marker = \"o\") \n",
        "    plt.scatter(positive[\"x\"],positive[\"y\"],c = \"b\",s = 30,alpha = .5,marker = \"D\") \n",
        "\n",
        "    xyc = np.array(xyc)\n",
        "    maxx = np.max(xyc[:,0])\n",
        "    minn = np.min(xyc[:,0])\n",
        "    xp = np.linspace(minn+0.2, maxx+0.2, 100)\n",
        "    p1 = -(answj[0]/answj[1])*xp-(answj[2]/answj[1])\n",
        "    plt.plot(xp, p1)\n",
        "    \n",
        "groundTruth = [1,-1,0]\n",
        "plot_line(df,groundTruth,\"groundTruth\")"
      ],
      "execution_count": null,
      "outputs": [
        {
          "data": {
            "image/png": "[encoded data removed]",
            "text/plain": [
              "<Figure size 432x288 with 1 Axes>"
            ]
          },
          "metadata": {
            "needs_background": "light"
          },
          "output_type": "display_data"
        }
      ]
    },
    {
      "cell_type": "markdown",
      "metadata": {
        "id": "sV0qMC0LxYLt"
      },
      "source": [
        "## preprocessing"
      ]
    },
    {
      "cell_type": "code",
      "metadata": {
        "id": "5CdGuom1xYLt"
      },
      "source": [
        "training = np.array(df)\n",
        "training = training[:,0:2]\n",
        "trainingLabel = np.array(df['label'])\n",
        "dataNum,n = training.shape"
      ],
      "execution_count": null,
      "outputs": []
    },
    {
      "cell_type": "markdown",
      "metadata": {
        "id": "6wUua8dZxYLt"
      },
      "source": [
        "## produce label array"
      ]
    },
    {
      "cell_type": "code",
      "metadata": {
        "id": "TLDjFufPxYLt"
      },
      "source": [
        "labelArray = np.zeros((dataNum, 2), dtype = np.float32)\n",
        "\n",
        "label_0 = np.zeros((1, 2), dtype = np.float32)\n",
        "label_1 = np.zeros((1, 2), dtype = np.float32)\n",
        "label_0[0][0]=1\n",
        "label_1[0][1]=1\n",
        "\n",
        "for i in range(dataNum):\n",
        "        if trainingLabel[i] == 0:\n",
        "            labelArray[i]=label_0\n",
        "        else:\n",
        "            labelArray[i]=label_1"
      ],
      "execution_count": null,
      "outputs": []
    },
    {
      "cell_type": "markdown",
      "metadata": {
        "id": "lsLFeQANxYLu"
      },
      "source": [
        "## constant"
      ]
    },
    {
      "cell_type": "code",
      "metadata": {
        "id": "t0fBbL9kxYLu"
      },
      "source": [
        "EPOCHS = 100000\n",
        "Batch_size = 50\n",
        "alpha = 1e-4"
      ],
      "execution_count": null,
      "outputs": []
    },
    {
      "cell_type": "markdown",
      "metadata": {
        "id": "UeBhLB7oxYLu"
      },
      "source": [
        "## Training"
      ]
    },
    {
      "cell_type": "code",
      "metadata": {
        "id": "ucBzwfKnxYLv",
        "outputId": "6032b75f-58de-46d9-f77c-418a4b303d02"
      },
      "source": [
        "model = ANN()\n",
        "for epoch in range(EPOCHS):\n",
        "    correct = 0\n",
        "    loss = 0\n",
        "    for start in range(int(dataNum/Batch_size)):\n",
        "        packageS = start*Batch_size\n",
        "        trainingBatch = training[packageS:packageS+Batch_size]\n",
        "        labelBatch = labelArray[packageS:packageS+Batch_size]\n",
        "        \n",
        "        pred, train_loss = model.forward(trainingBatch,labelBatch)\n",
        "    \n",
        "        loss += train_loss\n",
        "        predtion = np.argmax(pred, axis=1)\n",
        "        \n",
        "        for i in range(Batch_size):\n",
        "            if predtion[i] == trainingLabel[packageS+i]:\n",
        "                correct+=1\n",
        "        model.backward()\n",
        "        model.update(alpha)\n",
        "    if((epoch+1)%10000==0):\n",
        "        print('Epoch:%6d'%(epoch+1), '| Loss:%6.4e'%(loss/int(dataNum/Batch_size)), '| Accuracy:%5.4f'%(correct/dataNum*100.0))"
      ],
      "execution_count": null,
      "outputs": [
        {
          "name": "stdout",
          "output_type": "stream",
          "text": [
            "Epoch: 10000 | Loss:7.4548e-03 | Accuracy:100.0000\n",
            "Epoch: 20000 | Loss:1.7162e-03 | Accuracy:100.0000\n",
            "Epoch: 30000 | Loss:9.2497e-04 | Accuracy:100.0000\n",
            "Epoch: 40000 | Loss:6.2345e-04 | Accuracy:100.0000\n",
            "Epoch: 50000 | Loss:4.6666e-04 | Accuracy:100.0000\n",
            "Epoch: 60000 | Loss:3.7123e-04 | Accuracy:100.0000\n",
            "Epoch: 70000 | Loss:3.0732e-04 | Accuracy:100.0000\n",
            "Epoch: 80000 | Loss:2.6165e-04 | Accuracy:100.0000\n",
            "Epoch: 90000 | Loss:2.2746e-04 | Accuracy:100.0000\n",
            "Epoch:100000 | Loss:2.0095e-04 | Accuracy:100.0000\n"
          ]
        }
      ]
    },
    {
      "cell_type": "markdown",
      "metadata": {
        "id": "L4vXDdH9xYLv"
      },
      "source": [
        "## output Prediction"
      ]
    },
    {
      "cell_type": "code",
      "metadata": {
        "id": "rqEx3DHoxYLv",
        "outputId": "c87ff711-77aa-47e4-e6da-13104ea6face"
      },
      "source": [
        "pred_list = []\n",
        "for i in range(int(dataNum/Batch_size)):\n",
        "    packageS = i*Batch_size\n",
        "    pred, train_loss = model.forward(training[packageS:packageS+Batch_size], labelArray[packageS:packageS+Batch_size])\n",
        "    predtion = np.argmax(pred, axis=1)\n",
        "    predtion = predtion.tolist()\n",
        "    pred_list += predtion\n",
        "\n",
        "print(pred_list)\n",
        "    "
      ],
      "execution_count": null,
      "outputs": [
        {
          "name": "stdout",
          "output_type": "stream",
          "text": [
            "[0, 1, 0, 0, 1, 0, 0, 0, 1, 1, 1, 1, 0, 0, 0, 1, 0, 0, 1, 0, 0, 0, 0, 1, 1, 0, 1, 0, 1, 1, 0, 0, 1, 0, 0, 1, 0, 0, 1, 1, 0, 0, 1, 0, 0, 0, 1, 1, 1, 0, 1, 1, 0, 1, 1, 0, 0, 1, 0, 0, 1, 0, 0, 1, 0, 1, 0, 1, 1, 0, 1, 1, 0, 1, 0, 0, 0, 1, 1, 0, 0, 1, 1, 1, 0, 1, 1, 1, 0, 1, 1, 1, 1, 0, 0, 0, 0, 1, 1, 1]\n"
          ]
        }
      ]
    },
    {
      "cell_type": "markdown",
      "metadata": {
        "id": "FM_OwJDexYLw"
      },
      "source": [
        "# create result dataframe"
      ]
    },
    {
      "cell_type": "code",
      "metadata": {
        "id": "8jEC_goCxYLw"
      },
      "source": [
        "df_test=df\n",
        "df_label = pd.DataFrame(pred_list, columns=[\"label\"])\n",
        "df_test[\"label\"] = df_label\n",
        "\n",
        "# print(np.array(df_test))"
      ],
      "execution_count": null,
      "outputs": []
    },
    {
      "cell_type": "code",
      "metadata": {
        "id": "jJoF3FjdxYLx",
        "outputId": "ec24c412-aca6-4db4-b897-e5d38f218598"
      },
      "source": [
        "\n",
        "def plot(ground,my_pred,answj):\n",
        "    plt.figure(figsize=(12, 6))\n",
        "    plt.subplot(1, 2,1)\n",
        "    plot_line(ground,answj,\"predict result\")\n",
        "    plt.subplot(1, 2, 2)\n",
        "    plot_line(my_pred,answj,\"Ground truth\")\n",
        "    \n",
        "plot(df_test,df,groundTruth)    "
      ],
      "execution_count": null,
      "outputs": [
        {
          "data": {
            "image/png": "[encoded data removed]",
            "text/plain": [
              "<Figure size 864x432 with 2 Axes>"
            ]
          },
          "metadata": {
            "needs_background": "light"
          },
          "output_type": "display_data"
        }
      ]
    }
  ]
}